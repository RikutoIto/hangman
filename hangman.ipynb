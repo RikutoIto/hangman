{
 "cells": [
  {
   "cell_type": "code",
   "execution_count": null,
   "metadata": {},
   "outputs": [],
   "source": []
  },
  {
   "cell_type": "code",
   "execution_count": 8,
   "metadata": {},
   "outputs": [
    {
     "name": "stdout",
     "output_type": "stream",
     "text": [
      "ハングマンへようこそ\n",
      "\n",
      "\n"
     ]
    },
    {
     "name": "stdin",
     "output_type": "stream",
     "text": [
      "1文字を予想してね e\n"
     ]
    },
    {
     "name": "stdout",
     "output_type": "stream",
     "text": [
      "_ _ _\n",
      "\n",
      "_________         \n",
      "\n",
      "\n"
     ]
    },
    {
     "name": "stdin",
     "output_type": "stream",
     "text": [
      "1文字を予想してね c\n"
     ]
    },
    {
     "name": "stdout",
     "output_type": "stream",
     "text": [
      "c _ _\n",
      "\n",
      "_________         \n",
      "\n",
      "\n"
     ]
    },
    {
     "name": "stdin",
     "output_type": "stream",
     "text": [
      "1文字を予想してね a\n"
     ]
    },
    {
     "name": "stdout",
     "output_type": "stream",
     "text": [
      "c a _\n",
      "\n",
      "_________         \n",
      "\n",
      "\n"
     ]
    },
    {
     "name": "stdin",
     "output_type": "stream",
     "text": [
      "1文字を予想してね t\n"
     ]
    },
    {
     "name": "stdout",
     "output_type": "stream",
     "text": [
      "c a _\n",
      "\n",
      "_________         \n",
      "|                 \n",
      "\n",
      "\n"
     ]
    },
    {
     "name": "stdin",
     "output_type": "stream",
     "text": [
      "1文字を予想してね t\n"
     ]
    },
    {
     "name": "stdout",
     "output_type": "stream",
     "text": [
      "c a _\n",
      "\n",
      "_________         \n",
      "|                 \n",
      "|        |        \n",
      "\n",
      "\n"
     ]
    },
    {
     "name": "stdin",
     "output_type": "stream",
     "text": [
      "1文字を予想してね r\n"
     ]
    },
    {
     "name": "stdout",
     "output_type": "stream",
     "text": [
      "c a r\n",
      "\n",
      "_________         \n",
      "|                 \n",
      "|        |        \n",
      "あなたの勝ち\n",
      "c a r\n"
     ]
    }
   ],
   "source": [
    "from random import randint\n",
    "\n",
    "def hangman(word):\n",
    "    wrong = 0\n",
    "    stages = [\"\",\n",
    "             \"_________         \",\n",
    "             \"|                 \",\n",
    "             \"|        |        \",\n",
    "             \"|        O        \",\n",
    "             \"|       /|\\       \",\n",
    "             \"|       / \\       \",\n",
    "             \"|                 \"\n",
    "             ]\n",
    "    rletters = list(word)\n",
    "    board = [\"_\"]*len(word)\n",
    "    win = False\n",
    "    print(\"ハングマンへようこそ\")\n",
    "    \n",
    "    while wrong <len(stages) - 1 :\n",
    "        print(\"\\n\")\n",
    "        msg = '1文字を予想してね'\n",
    "        char = input(msg)\n",
    "        if char in rletters:\n",
    "            cind = rletters.index(char)\n",
    "            board[cind]=char\n",
    "            rletters[cind]='$'\n",
    "        else:\n",
    "            wrong +=1\n",
    "        print(\" \".join(board))\n",
    "        e = wrong +1\n",
    "        print(\"\\n\".join(stages[0:e]))\n",
    "        if  '_' not in board:\n",
    "            print('あなたの勝ち')\n",
    "            print(\" \".join(board))\n",
    "            win = True\n",
    "            break\n",
    "    if not win:\n",
    "        print(\"\\n\".join(stages[0:wrong+1]))\n",
    "        print(\"あなたの負け,正解は{}.\".format(word))\n",
    "        \n",
    "        \n",
    "lis = ['pen','cat','dog','car']\n",
    "w = lis[randint(0,len(lis))]\n",
    "hangman(w)"
   ]
  },
  {
   "cell_type": "code",
   "execution_count": null,
   "metadata": {},
   "outputs": [],
   "source": []
  }
 ],
 "metadata": {
  "kernelspec": {
   "display_name": "Python 3",
   "language": "python",
   "name": "python3"
  },
  "language_info": {
   "codemirror_mode": {
    "name": "ipython",
    "version": 3
   },
   "file_extension": ".py",
   "mimetype": "text/x-python",
   "name": "python",
   "nbconvert_exporter": "python",
   "pygments_lexer": "ipython3",
   "version": "3.7.0"
  }
 },
 "nbformat": 4,
 "nbformat_minor": 2
}
